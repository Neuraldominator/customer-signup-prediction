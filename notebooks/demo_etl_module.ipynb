{
 "cells": [
  {
   "cell_type": "markdown",
   "metadata": {},
   "source": [
    "# How to use the etl module"
   ]
  },
  {
   "cell_type": "markdown",
   "metadata": {},
   "source": [
    "To demonstrate the features of the module, we perform a simplified ETL pipeline, where we extract raw data from a csv, remove duplicate rows, and store the tranformed dataset in a csv file."
   ]
  },
  {
   "cell_type": "code",
   "execution_count": 1,
   "metadata": {},
   "outputs": [],
   "source": [
    "import pandas as pd\n",
    "import numpy as np"
   ]
  },
  {
   "cell_type": "markdown",
   "metadata": {},
   "source": [
    "### Import etl module"
   ]
  },
  {
   "cell_type": "code",
   "execution_count": 2,
   "metadata": {},
   "outputs": [],
   "source": [
    "# add src to module search path \n",
    "\n",
    "import os\n",
    "import sys\n",
    "\n",
    "current_dir = os.getcwd()\n",
    "parent_dir = os.path.abspath(os.path.join(current_dir, os.pardir))\n",
    "\n",
    "if os.name == \"nt\":\n",
    "    path_separator = \"\\\\\"\n",
    "else:\n",
    "    path_separator = \"/\"\n",
    "    \n",
    "module_path = f\"{parent_dir}{path_separator}src\"\n",
    "sys.path.append(module_path)\n",
    "\n",
    "# import custom module\n",
    "from etl import DataPreprocessing"
   ]
  },
  {
   "cell_type": "code",
   "execution_count": 3,
   "metadata": {},
   "outputs": [],
   "source": [
    "file_path = f'..{path_separator}data{path_separator}raw{path_separator}interview_signup.csv'\n",
    "\n",
    "# class instantiation\n",
    "Pipeline_1 = DataPreprocessing(file_path)"
   ]
  },
  {
   "cell_type": "code",
   "execution_count": 4,
   "metadata": {},
   "outputs": [
    {
     "data": {
      "text/plain": [
       "(318345, 5)"
      ]
     },
     "execution_count": 4,
     "metadata": {},
     "output_type": "execute_result"
    }
   ],
   "source": [
    "# load raw data from csv\n",
    "sep = ','\n",
    "header = 0\n",
    "dtype = {'original_product_name': str,\n",
    "         'postcode'             : str,\n",
    "         'bundesland'           : str,\n",
    "         'total_bonus'          : 'float64',\n",
    "         'order_date'           : str}\n",
    "\n",
    "Pipeline_1.load_data_from_csv(# encoding='utf-8', \n",
    "                            sep=sep,\n",
    "                            header=header,\n",
    "                            dtype=dtype)\n",
    "Pipeline_1.df.shape"
   ]
  },
  {
   "cell_type": "code",
   "execution_count": 5,
   "metadata": {},
   "outputs": [
    {
     "data": {
      "text/plain": [
       "Index(['original_product_name', 'postcode', 'bundesland', 'total_bonus',\n",
       "       'order_date'],\n",
       "      dtype='object')"
      ]
     },
     "execution_count": 5,
     "metadata": {},
     "output_type": "execute_result"
    }
   ],
   "source": [
    "# column names\n",
    "Pipeline_1.df.columns"
   ]
  },
  {
   "cell_type": "markdown",
   "metadata": {},
   "source": [
    "Check data types"
   ]
  },
  {
   "cell_type": "code",
   "execution_count": 6,
   "metadata": {},
   "outputs": [
    {
     "data": {
      "text/plain": [
       "original_product_name     object\n",
       "postcode                  object\n",
       "bundesland                object\n",
       "total_bonus              float64\n",
       "order_date                object\n",
       "dtype: object"
      ]
     },
     "execution_count": 6,
     "metadata": {},
     "output_type": "execute_result"
    }
   ],
   "source": [
    "Pipeline_1.df.dtypes"
   ]
  },
  {
   "cell_type": "code",
   "execution_count": 7,
   "metadata": {},
   "outputs": [
    {
     "data": {
      "text/plain": [
       "array(['E.ON STROM', 'E.ON STROM ÖKO', 'E.ON STROM ÖKO 24',\n",
       "       'E.ON STROM 24', 'E.ON STROM PUR', 'E.ON STROM Ã–KO',\n",
       "       'E.ON STROM 24 24 24', 'E.ON STROM 24 24', 'E.ON STROM ÖO',\n",
       "       'E.ON STROM 24 24 24 24 24 24 24'], dtype=object)"
      ]
     },
     "execution_count": 7,
     "metadata": {},
     "output_type": "execute_result"
    }
   ],
   "source": [
    "Pipeline_1.df['original_product_name'].unique()"
   ]
  },
  {
   "cell_type": "code",
   "execution_count": 8,
   "metadata": {},
   "outputs": [
    {
     "data": {
      "text/plain": [
       "array(['Nordrhein-Westfalen', 'Baden-Württemberg', 'Hessen', 'Berlin',\n",
       "       'Schleswig-Holstein', 'Niedersachsen', nan, 'Bayern',\n",
       "       'Rheinland-Pfalz', 'Sachsen', 'Bremen', 'Brandenburg', 'Thüringen',\n",
       "       'Saarland', 'Mecklenburg-Vorpommern', 'Hamburg', 'Sachsen-Anhalt'],\n",
       "      dtype=object)"
      ]
     },
     "execution_count": 8,
     "metadata": {},
     "output_type": "execute_result"
    }
   ],
   "source": [
    "Pipeline_1.df['bundesland'].unique()"
   ]
  },
  {
   "cell_type": "code",
   "execution_count": 9,
   "metadata": {},
   "outputs": [
    {
     "data": {
      "text/plain": [
       "array([<class 'str'>], dtype=object)"
      ]
     },
     "execution_count": 9,
     "metadata": {},
     "output_type": "execute_result"
    }
   ],
   "source": [
    "Pipeline_1.df['order_date'].apply(lambda x: type(x)).unique()\n"
   ]
  },
  {
   "cell_type": "code",
   "execution_count": 10,
   "metadata": {},
   "outputs": [],
   "source": [
    "# order_date contains all strings\n",
    "Pipeline_1.df['order_date'].apply(lambda x: type(x)).unique()\n",
    "\n",
    "# convert order_date column to datetime.date\n",
    "Pipeline_1.df['order_date'] = pd.to_datetime(Pipeline_1.df['order_date'], format=\"%Y-%m-%d\")\n",
    "Pipeline_1.df['order_date'] = Pipeline_1.df['order_date'].dt.date"
   ]
  },
  {
   "cell_type": "code",
   "execution_count": 11,
   "metadata": {},
   "outputs": [
    {
     "name": "stdout",
     "output_type": "stream",
     "text": [
      "<class 'pandas.core.frame.DataFrame'>\n",
      "RangeIndex: 318345 entries, 0 to 318344\n",
      "Data columns (total 5 columns):\n",
      " #   Column                 Non-Null Count   Dtype  \n",
      "---  ------                 --------------   -----  \n",
      " 0   original_product_name  318345 non-null  object \n",
      " 1   postcode               318345 non-null  object \n",
      " 2   bundesland             288813 non-null  object \n",
      " 3   total_bonus            318345 non-null  float64\n",
      " 4   order_date             318345 non-null  object \n",
      "dtypes: float64(1), object(4)\n",
      "memory usage: 12.1+ MB\n"
     ]
    }
   ],
   "source": [
    "# check conversion status\n",
    "Pipeline_1.df.info()  # alt.: Pipeline_1.df.dtypes"
   ]
  },
  {
   "cell_type": "markdown",
   "metadata": {},
   "source": [
    "Remove duplicate rows:"
   ]
  },
  {
   "cell_type": "code",
   "execution_count": 12,
   "metadata": {},
   "outputs": [
    {
     "data": {
      "text/plain": [
       "(318175, 5)"
      ]
     },
     "execution_count": 12,
     "metadata": {},
     "output_type": "execute_result"
    }
   ],
   "source": [
    "# delete duplicate rows\n",
    "Pipeline_1.remove_duplicate_rows()\n",
    "Pipeline_1.df.shape"
   ]
  },
  {
   "cell_type": "markdown",
   "metadata": {},
   "source": [
    "Check missing data"
   ]
  },
  {
   "cell_type": "code",
   "execution_count": 13,
   "metadata": {},
   "outputs": [
    {
     "data": {
      "text/plain": [
       "original_product_name        0\n",
       "postcode                     0\n",
       "bundesland               29521\n",
       "total_bonus                  0\n",
       "order_date                   0\n",
       "dtype: int64"
      ]
     },
     "execution_count": 13,
     "metadata": {},
     "output_type": "execute_result"
    }
   ],
   "source": [
    "# check number of missing values for each column\n",
    "columns = list(Pipeline_1.df.columns)\n",
    "Pipeline_1.missing_values(columns).sum()\n",
    "\n",
    "# alt.: my_class.df.info()"
   ]
  },
  {
   "cell_type": "code",
   "execution_count": 14,
   "metadata": {},
   "outputs": [
    {
     "data": {
      "text/plain": [
       "54536           Niedersachsen\n",
       "254382     Schleswig-Holstein\n",
       "203006                 Bayern\n",
       "308543                 Hessen\n",
       "55258                  Bayern\n",
       "192078                 Bayern\n",
       "242230    Nordrhein-Westfalen\n",
       "3017      Nordrhein-Westfalen\n",
       "35160     Nordrhein-Westfalen\n",
       "159255    Nordrhein-Westfalen\n",
       "Name: bundesland, dtype: object"
      ]
     },
     "execution_count": 14,
     "metadata": {},
     "output_type": "execute_result"
    }
   ],
   "source": [
    "# returns logical index of all rows with missing state\n",
    "idx_missing_state = Pipeline_1.missing_values('bundesland')\n",
    "\n",
    "# Return sample of filled states\n",
    "Pipeline_1.df.loc[~idx_missing_state, 'bundesland'].sample(10)"
   ]
  },
  {
   "cell_type": "code",
   "execution_count": 15,
   "metadata": {},
   "outputs": [
    {
     "data": {
      "text/plain": [
       "288654"
      ]
     },
     "execution_count": 15,
     "metadata": {},
     "output_type": "execute_result"
    }
   ],
   "source": [
    "# count number of valid German states \n",
    "Pipeline_1.validate_state('bundesland').sum()"
   ]
  },
  {
   "cell_type": "markdown",
   "metadata": {},
   "source": [
    "Inspect the invalid postcode cases:"
   ]
  },
  {
   "cell_type": "code",
   "execution_count": 16,
   "metadata": {},
   "outputs": [
    {
     "name": "stdout",
     "output_type": "stream",
     "text": [
      "Number of valid postcodes:  226865\n"
     ]
    },
    {
     "data": {
      "text/plain": [
       "266562    22399.0\n",
       "59115        4347\n",
       "80220     45130.0\n",
       "317829    96170.0\n",
       "209581    97845.0\n",
       "316405    70190.0\n",
       "205290    73457.0\n",
       "238221    46236.0\n",
       "42644        1917\n",
       "125886     4317.0\n",
       "19548     14612.0\n",
       "144482    63477.0\n",
       "15685     63579.0\n",
       "231209       4329\n",
       "157384    66359.0\n",
       "99071     24628.0\n",
       "2906      82547.0\n",
       "248083    86865.0\n",
       "152724    92249.0\n",
       "230718     4178.0\n",
       "Name: postcode, dtype: object"
      ]
     },
     "execution_count": 16,
     "metadata": {},
     "output_type": "execute_result"
    }
   ],
   "source": [
    "idx_valid_postcodes = Pipeline_1.validate_postcode(\"postcode\", r\"^[0-9]{5}$\")\n",
    "print(\"Number of valid postcodes: \", idx_valid_postcodes.sum())\n",
    "\n",
    "# return sample of 20 invalid postcodes\n",
    "Pipeline_1.df.loc[~idx_valid_postcodes, 'postcode'].sample(20)"
   ]
  },
  {
   "cell_type": "code",
   "execution_count": 17,
   "metadata": {},
   "outputs": [
    {
     "name": "stdout",
     "output_type": "stream",
     "text": [
      "78598 entries were changed.\n",
      "\n",
      "Remaining invalid postcodes:  16610\n"
     ]
    },
    {
     "data": {
      "text/plain": [
       "118949    4179\n",
       "39825     6258\n",
       "175001    4229\n",
       "149986    6722\n",
       "135447    6449\n",
       "118929    6849\n",
       "60027     4425\n",
       "212094    9599\n",
       "229339    6184\n",
       "316487    4821\n",
       "200987    6484\n",
       "120038    1705\n",
       "286222    8459\n",
       "195293    8297\n",
       "204875    6231\n",
       "268463    9496\n",
       "152907    9456\n",
       "75701     1662\n",
       "164115    4442\n",
       "91513     1108\n",
       "Name: postcode, dtype: object"
      ]
     },
     "execution_count": 17,
     "metadata": {},
     "output_type": "execute_result"
    }
   ],
   "source": [
    "# Remove decimals and check again\n",
    "Pipeline_1.remove_decimals('postcode')\n",
    "\n",
    "# remaining invalid postcodes\n",
    "idx_valid_postcodes = Pipeline_1.validate_postcode('postcode')\n",
    "print(\"Remaining invalid postcodes: \", Pipeline_1.df.shape[0] - idx_valid_postcodes.sum())\n",
    "\n",
    "# show sample of 20 remaining invalid cases\n",
    "Pipeline_1.df.loc[~idx_valid_postcodes, 'postcode'].sample(20)"
   ]
  },
  {
   "cell_type": "code",
   "execution_count": 18,
   "metadata": {},
   "outputs": [
    {
     "data": {
      "text/plain": [
       "266922    92696JAVAS\n",
       "Name: postcode, dtype: object"
      ]
     },
     "execution_count": 18,
     "metadata": {},
     "output_type": "execute_result"
    }
   ],
   "source": [
    "# check for postcodes with more than 5 digits and less than 4 digits\n",
    "idx_postcode_unequal_5 = (Pipeline_1.df['postcode'].str.len()>5) | (Pipeline_1.df['postcode'].str.len()<4)\n",
    "\n",
    "Pipeline_1.df.loc[idx_postcode_unequal_5, 'postcode']"
   ]
  },
  {
   "cell_type": "code",
   "execution_count": 19,
   "metadata": {},
   "outputs": [
    {
     "name": "stdout",
     "output_type": "stream",
     "text": [
      "Remaining invalid postcodes:  16609\n"
     ]
    }
   ],
   "source": [
    "# drop record with index 266922\n",
    "Pipeline_1.df.drop(index=266922, inplace=True)\n",
    "\n",
    "# remaining invalid postcodes\n",
    "idx_valid_postcodes = Pipeline_1.validate_postcode('postcode')\n",
    "print(\"Remaining invalid postcodes: \", Pipeline_1.df.shape[0] - idx_valid_postcodes.sum())"
   ]
  },
  {
   "cell_type": "code",
   "execution_count": 20,
   "metadata": {},
   "outputs": [
    {
     "name": "stdout",
     "output_type": "stream",
     "text": [
      "16609 entries were changed.\n",
      "\n"
     ]
    }
   ],
   "source": [
    "# pad postcodes with zero from left\n",
    "Pipeline_1.zero_padding('postcode', side='left', n=5)"
   ]
  },
  {
   "cell_type": "code",
   "execution_count": 21,
   "metadata": {},
   "outputs": [
    {
     "name": "stdout",
     "output_type": "stream",
     "text": [
      "Remaining invalid postcodes:  0\n"
     ]
    },
    {
     "data": {
      "text/html": [
       "<div>\n",
       "<style scoped>\n",
       "    .dataframe tbody tr th:only-of-type {\n",
       "        vertical-align: middle;\n",
       "    }\n",
       "\n",
       "    .dataframe tbody tr th {\n",
       "        vertical-align: top;\n",
       "    }\n",
       "\n",
       "    .dataframe thead th {\n",
       "        text-align: right;\n",
       "    }\n",
       "</style>\n",
       "<table border=\"1\" class=\"dataframe\">\n",
       "  <thead>\n",
       "    <tr style=\"text-align: right;\">\n",
       "      <th></th>\n",
       "      <th>original_product_name</th>\n",
       "      <th>postcode</th>\n",
       "      <th>bundesland</th>\n",
       "      <th>total_bonus</th>\n",
       "      <th>order_date</th>\n",
       "    </tr>\n",
       "  </thead>\n",
       "  <tbody>\n",
       "    <tr>\n",
       "      <th>56802</th>\n",
       "      <td>E.ON STROM</td>\n",
       "      <td>74599</td>\n",
       "      <td>Baden-Württemberg</td>\n",
       "      <td>116.0</td>\n",
       "      <td>2018-03-06</td>\n",
       "    </tr>\n",
       "    <tr>\n",
       "      <th>273857</th>\n",
       "      <td>E.ON STROM ÖKO</td>\n",
       "      <td>53227</td>\n",
       "      <td>Nordrhein-Westfalen</td>\n",
       "      <td>225.0</td>\n",
       "      <td>2018-11-11</td>\n",
       "    </tr>\n",
       "    <tr>\n",
       "      <th>51697</th>\n",
       "      <td>E.ON STROM ÖKO</td>\n",
       "      <td>64739</td>\n",
       "      <td>NaN</td>\n",
       "      <td>152.0</td>\n",
       "      <td>2018-03-01</td>\n",
       "    </tr>\n",
       "    <tr>\n",
       "      <th>70451</th>\n",
       "      <td>E.ON STROM ÖKO</td>\n",
       "      <td>28217</td>\n",
       "      <td>Bremen</td>\n",
       "      <td>99.0</td>\n",
       "      <td>2018-03-22</td>\n",
       "    </tr>\n",
       "    <tr>\n",
       "      <th>7470</th>\n",
       "      <td>E.ON STROM</td>\n",
       "      <td>13088</td>\n",
       "      <td>Berlin</td>\n",
       "      <td>83.0</td>\n",
       "      <td>2018-01-09</td>\n",
       "    </tr>\n",
       "    <tr>\n",
       "      <th>291436</th>\n",
       "      <td>E.ON STROM</td>\n",
       "      <td>95138</td>\n",
       "      <td>Bayern</td>\n",
       "      <td>140.0</td>\n",
       "      <td>2018-12-01</td>\n",
       "    </tr>\n",
       "    <tr>\n",
       "      <th>218723</th>\n",
       "      <td>E.ON STROM</td>\n",
       "      <td>60316</td>\n",
       "      <td>NaN</td>\n",
       "      <td>123.0</td>\n",
       "      <td>2018-09-09</td>\n",
       "    </tr>\n",
       "    <tr>\n",
       "      <th>237109</th>\n",
       "      <td>E.ON STROM 24</td>\n",
       "      <td>16547</td>\n",
       "      <td>Brandenburg</td>\n",
       "      <td>152.0</td>\n",
       "      <td>2018-09-30</td>\n",
       "    </tr>\n",
       "    <tr>\n",
       "      <th>114887</th>\n",
       "      <td>E.ON STROM</td>\n",
       "      <td>33619</td>\n",
       "      <td>Nordrhein-Westfalen</td>\n",
       "      <td>212.0</td>\n",
       "      <td>2018-05-13</td>\n",
       "    </tr>\n",
       "    <tr>\n",
       "      <th>263483</th>\n",
       "      <td>E.ON STROM</td>\n",
       "      <td>96489</td>\n",
       "      <td>Bayern</td>\n",
       "      <td>350.0</td>\n",
       "      <td>2018-10-30</td>\n",
       "    </tr>\n",
       "    <tr>\n",
       "      <th>161872</th>\n",
       "      <td>E.ON STROM 24</td>\n",
       "      <td>17291</td>\n",
       "      <td>Brandenburg</td>\n",
       "      <td>159.0</td>\n",
       "      <td>2018-07-05</td>\n",
       "    </tr>\n",
       "    <tr>\n",
       "      <th>248194</th>\n",
       "      <td>E.ON STROM 24</td>\n",
       "      <td>88213</td>\n",
       "      <td>Baden-Württemberg</td>\n",
       "      <td>151.0</td>\n",
       "      <td>2018-10-13</td>\n",
       "    </tr>\n",
       "    <tr>\n",
       "      <th>291133</th>\n",
       "      <td>E.ON STROM</td>\n",
       "      <td>22549</td>\n",
       "      <td>Hamburg</td>\n",
       "      <td>342.0</td>\n",
       "      <td>2018-12-01</td>\n",
       "    </tr>\n",
       "    <tr>\n",
       "      <th>175504</th>\n",
       "      <td>E.ON STROM ÖKO</td>\n",
       "      <td>04318</td>\n",
       "      <td>Sachsen</td>\n",
       "      <td>164.0</td>\n",
       "      <td>2018-07-21</td>\n",
       "    </tr>\n",
       "    <tr>\n",
       "      <th>300890</th>\n",
       "      <td>E.ON STROM</td>\n",
       "      <td>75382</td>\n",
       "      <td>Baden-Württemberg</td>\n",
       "      <td>137.0</td>\n",
       "      <td>2018-12-12</td>\n",
       "    </tr>\n",
       "    <tr>\n",
       "      <th>130043</th>\n",
       "      <td>E.ON STROM 24</td>\n",
       "      <td>31174</td>\n",
       "      <td>Niedersachsen</td>\n",
       "      <td>186.0</td>\n",
       "      <td>2018-05-30</td>\n",
       "    </tr>\n",
       "    <tr>\n",
       "      <th>260588</th>\n",
       "      <td>E.ON STROM</td>\n",
       "      <td>45529</td>\n",
       "      <td>Nordrhein-Westfalen</td>\n",
       "      <td>240.0</td>\n",
       "      <td>2018-10-27</td>\n",
       "    </tr>\n",
       "    <tr>\n",
       "      <th>129907</th>\n",
       "      <td>E.ON STROM</td>\n",
       "      <td>06642</td>\n",
       "      <td>NaN</td>\n",
       "      <td>123.0</td>\n",
       "      <td>2018-05-30</td>\n",
       "    </tr>\n",
       "    <tr>\n",
       "      <th>232475</th>\n",
       "      <td>E.ON STROM 24</td>\n",
       "      <td>09249</td>\n",
       "      <td>Sachsen</td>\n",
       "      <td>144.0</td>\n",
       "      <td>2018-09-25</td>\n",
       "    </tr>\n",
       "    <tr>\n",
       "      <th>294944</th>\n",
       "      <td>E.ON STROM ÖKO</td>\n",
       "      <td>01665</td>\n",
       "      <td>Sachsen</td>\n",
       "      <td>133.0</td>\n",
       "      <td>2018-12-05</td>\n",
       "    </tr>\n",
       "  </tbody>\n",
       "</table>\n",
       "</div>"
      ],
      "text/plain": [
       "       original_product_name postcode           bundesland  total_bonus  \\\n",
       "56802             E.ON STROM    74599    Baden-Württemberg        116.0   \n",
       "273857        E.ON STROM ÖKO    53227  Nordrhein-Westfalen        225.0   \n",
       "51697         E.ON STROM ÖKO    64739                  NaN        152.0   \n",
       "70451         E.ON STROM ÖKO    28217               Bremen         99.0   \n",
       "7470              E.ON STROM    13088               Berlin         83.0   \n",
       "291436            E.ON STROM    95138               Bayern        140.0   \n",
       "218723            E.ON STROM    60316                  NaN        123.0   \n",
       "237109         E.ON STROM 24    16547          Brandenburg        152.0   \n",
       "114887            E.ON STROM    33619  Nordrhein-Westfalen        212.0   \n",
       "263483            E.ON STROM    96489               Bayern        350.0   \n",
       "161872         E.ON STROM 24    17291          Brandenburg        159.0   \n",
       "248194         E.ON STROM 24    88213    Baden-Württemberg        151.0   \n",
       "291133            E.ON STROM    22549              Hamburg        342.0   \n",
       "175504        E.ON STROM ÖKO    04318              Sachsen        164.0   \n",
       "300890            E.ON STROM    75382    Baden-Württemberg        137.0   \n",
       "130043         E.ON STROM 24    31174        Niedersachsen        186.0   \n",
       "260588            E.ON STROM    45529  Nordrhein-Westfalen        240.0   \n",
       "129907            E.ON STROM    06642                  NaN        123.0   \n",
       "232475         E.ON STROM 24    09249              Sachsen        144.0   \n",
       "294944        E.ON STROM ÖKO    01665              Sachsen        133.0   \n",
       "\n",
       "        order_date  \n",
       "56802   2018-03-06  \n",
       "273857  2018-11-11  \n",
       "51697   2018-03-01  \n",
       "70451   2018-03-22  \n",
       "7470    2018-01-09  \n",
       "291436  2018-12-01  \n",
       "218723  2018-09-09  \n",
       "237109  2018-09-30  \n",
       "114887  2018-05-13  \n",
       "263483  2018-10-30  \n",
       "161872  2018-07-05  \n",
       "248194  2018-10-13  \n",
       "291133  2018-12-01  \n",
       "175504  2018-07-21  \n",
       "300890  2018-12-12  \n",
       "130043  2018-05-30  \n",
       "260588  2018-10-27  \n",
       "129907  2018-05-30  \n",
       "232475  2018-09-25  \n",
       "294944  2018-12-05  "
      ]
     },
     "execution_count": 21,
     "metadata": {},
     "output_type": "execute_result"
    }
   ],
   "source": [
    "# remaining invalid postcodes\n",
    "idx_valid_postcodes = Pipeline_1.validate_postcode('postcode')\n",
    "print(\"Remaining invalid postcodes: \", Pipeline_1.df.shape[0] - idx_valid_postcodes.sum())\n",
    "\n",
    "# have a look at cleaned column\n",
    "Pipeline_1.df[idx_valid_postcodes].sample(20)"
   ]
  },
  {
   "cell_type": "code",
   "execution_count": 22,
   "metadata": {},
   "outputs": [],
   "source": [
    "# store preprocessed csv in folder data/processed\n",
    "file_path_processed = f\"..{path_separator}data{path_separator}processed{path_separator}demo_etl_module_processed.csv\"\n",
    "Pipeline_1.save_data_to_csv(file_path_processed, index=False)"
   ]
  },
  {
   "cell_type": "code",
   "execution_count": null,
   "metadata": {},
   "outputs": [],
   "source": []
  },
  {
   "cell_type": "code",
   "execution_count": null,
   "metadata": {},
   "outputs": [],
   "source": []
  }
 ],
 "metadata": {
  "kernelspec": {
   "display_name": ".venv",
   "language": "python",
   "name": "python3"
  },
  "language_info": {
   "codemirror_mode": {
    "name": "ipython",
    "version": 3
   },
   "file_extension": ".py",
   "mimetype": "text/x-python",
   "name": "python",
   "nbconvert_exporter": "python",
   "pygments_lexer": "ipython3",
   "version": "3.8.10"
  }
 },
 "nbformat": 4,
 "nbformat_minor": 2
}
