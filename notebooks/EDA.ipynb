{
 "cells": [
  {
   "cell_type": "code",
   "execution_count": 8,
   "metadata": {},
   "outputs": [],
   "source": [
    "import pandas as pd\n",
    "import numpy as np\n",
    "import matplotlib.pyplot as plt"
   ]
  },
  {
   "cell_type": "code",
   "execution_count": 10,
   "metadata": {},
   "outputs": [
    {
     "name": "stderr",
     "output_type": "stream",
     "text": [
      "C:\\Users\\D39220\\AppData\\Local\\Temp\\ipykernel_48836\\2311166066.py:2: DtypeWarning: Columns (1) have mixed types. Specify dtype option on import or set low_memory=False.\n",
      "  df = pd.read_csv('../data/interview_signup.csv')\n"
     ]
    }
   ],
   "source": [
    "# load data\n",
    "df = pd.read_csv('../data/interview_signup.csv')"
   ]
  },
  {
   "cell_type": "code",
   "execution_count": 31,
   "metadata": {},
   "outputs": [
    {
     "data": {
      "text/html": [
       "<div>\n",
       "<style scoped>\n",
       "    .dataframe tbody tr th:only-of-type {\n",
       "        vertical-align: middle;\n",
       "    }\n",
       "\n",
       "    .dataframe tbody tr th {\n",
       "        vertical-align: top;\n",
       "    }\n",
       "\n",
       "    .dataframe thead th {\n",
       "        text-align: right;\n",
       "    }\n",
       "</style>\n",
       "<table border=\"1\" class=\"dataframe\">\n",
       "  <thead>\n",
       "    <tr style=\"text-align: right;\">\n",
       "      <th></th>\n",
       "      <th>original_product_name</th>\n",
       "      <th>postcode</th>\n",
       "      <th>bundesland</th>\n",
       "      <th>total_bonus</th>\n",
       "      <th>order_date</th>\n",
       "    </tr>\n",
       "  </thead>\n",
       "  <tbody>\n",
       "    <tr>\n",
       "      <th>0</th>\n",
       "      <td>E.ON STROM</td>\n",
       "      <td>53229.0</td>\n",
       "      <td>Nordrhein-Westfalen</td>\n",
       "      <td>146.0</td>\n",
       "      <td>2018-01-01</td>\n",
       "    </tr>\n",
       "    <tr>\n",
       "      <th>1</th>\n",
       "      <td>E.ON STROM ÖKO</td>\n",
       "      <td>74235.0</td>\n",
       "      <td>Baden-Württemberg</td>\n",
       "      <td>67.0</td>\n",
       "      <td>2018-01-01</td>\n",
       "    </tr>\n",
       "    <tr>\n",
       "      <th>2</th>\n",
       "      <td>E.ON STROM ÖKO 24</td>\n",
       "      <td>45257.0</td>\n",
       "      <td>Nordrhein-Westfalen</td>\n",
       "      <td>123.0</td>\n",
       "      <td>2018-01-01</td>\n",
       "    </tr>\n",
       "    <tr>\n",
       "      <th>3</th>\n",
       "      <td>E.ON STROM</td>\n",
       "      <td>64395.0</td>\n",
       "      <td>Hessen</td>\n",
       "      <td>159.0</td>\n",
       "      <td>2018-01-01</td>\n",
       "    </tr>\n",
       "    <tr>\n",
       "      <th>4</th>\n",
       "      <td>E.ON STROM 24</td>\n",
       "      <td>36039.0</td>\n",
       "      <td>Hessen</td>\n",
       "      <td>116.0</td>\n",
       "      <td>2018-01-01</td>\n",
       "    </tr>\n",
       "    <tr>\n",
       "      <th>5</th>\n",
       "      <td>E.ON STROM 24</td>\n",
       "      <td>12357.0</td>\n",
       "      <td>Berlin</td>\n",
       "      <td>96.0</td>\n",
       "      <td>2018-01-01</td>\n",
       "    </tr>\n",
       "    <tr>\n",
       "      <th>6</th>\n",
       "      <td>E.ON STROM</td>\n",
       "      <td>13088.0</td>\n",
       "      <td>Berlin</td>\n",
       "      <td>155.0</td>\n",
       "      <td>2018-01-01</td>\n",
       "    </tr>\n",
       "    <tr>\n",
       "      <th>7</th>\n",
       "      <td>E.ON STROM 24</td>\n",
       "      <td>73207.0</td>\n",
       "      <td>Baden-Württemberg</td>\n",
       "      <td>97.0</td>\n",
       "      <td>2018-01-01</td>\n",
       "    </tr>\n",
       "    <tr>\n",
       "      <th>8</th>\n",
       "      <td>E.ON STROM</td>\n",
       "      <td>23795.0</td>\n",
       "      <td>Schleswig-Holstein</td>\n",
       "      <td>109.0</td>\n",
       "      <td>2018-01-01</td>\n",
       "    </tr>\n",
       "    <tr>\n",
       "      <th>9</th>\n",
       "      <td>E.ON STROM 24</td>\n",
       "      <td>58638.0</td>\n",
       "      <td>Nordrhein-Westfalen</td>\n",
       "      <td>113.0</td>\n",
       "      <td>2018-01-01</td>\n",
       "    </tr>\n",
       "    <tr>\n",
       "      <th>10</th>\n",
       "      <td>E.ON STROM</td>\n",
       "      <td>37079.0</td>\n",
       "      <td>Niedersachsen</td>\n",
       "      <td>161.0</td>\n",
       "      <td>2018-01-01</td>\n",
       "    </tr>\n",
       "    <tr>\n",
       "      <th>11</th>\n",
       "      <td>E.ON STROM</td>\n",
       "      <td>88605.0</td>\n",
       "      <td>Baden-Württemberg</td>\n",
       "      <td>154.0</td>\n",
       "      <td>2018-01-01</td>\n",
       "    </tr>\n",
       "    <tr>\n",
       "      <th>12</th>\n",
       "      <td>E.ON STROM 24</td>\n",
       "      <td>26810.0</td>\n",
       "      <td>Niedersachsen</td>\n",
       "      <td>193.0</td>\n",
       "      <td>2018-01-01</td>\n",
       "    </tr>\n",
       "    <tr>\n",
       "      <th>13</th>\n",
       "      <td>E.ON STROM</td>\n",
       "      <td>30890.0</td>\n",
       "      <td>Niedersachsen</td>\n",
       "      <td>155.0</td>\n",
       "      <td>2018-01-01</td>\n",
       "    </tr>\n",
       "    <tr>\n",
       "      <th>14</th>\n",
       "      <td>E.ON STROM</td>\n",
       "      <td>39326.0</td>\n",
       "      <td>NaN</td>\n",
       "      <td>280.0</td>\n",
       "      <td>2018-01-01</td>\n",
       "    </tr>\n",
       "    <tr>\n",
       "      <th>15</th>\n",
       "      <td>E.ON STROM 24</td>\n",
       "      <td>85646.0</td>\n",
       "      <td>Bayern</td>\n",
       "      <td>281.0</td>\n",
       "      <td>2018-01-01</td>\n",
       "    </tr>\n",
       "    <tr>\n",
       "      <th>16</th>\n",
       "      <td>E.ON STROM</td>\n",
       "      <td>58454.0</td>\n",
       "      <td>Nordrhein-Westfalen</td>\n",
       "      <td>123.0</td>\n",
       "      <td>2018-01-01</td>\n",
       "    </tr>\n",
       "    <tr>\n",
       "      <th>17</th>\n",
       "      <td>E.ON STROM 24</td>\n",
       "      <td>31749.0</td>\n",
       "      <td>Niedersachsen</td>\n",
       "      <td>239.0</td>\n",
       "      <td>2018-01-01</td>\n",
       "    </tr>\n",
       "    <tr>\n",
       "      <th>18</th>\n",
       "      <td>E.ON STROM</td>\n",
       "      <td>30880.0</td>\n",
       "      <td>Niedersachsen</td>\n",
       "      <td>154.0</td>\n",
       "      <td>2018-01-01</td>\n",
       "    </tr>\n",
       "    <tr>\n",
       "      <th>19</th>\n",
       "      <td>E.ON STROM</td>\n",
       "      <td>31162.0</td>\n",
       "      <td>Niedersachsen</td>\n",
       "      <td>177.0</td>\n",
       "      <td>2018-01-01</td>\n",
       "    </tr>\n",
       "    <tr>\n",
       "      <th>20</th>\n",
       "      <td>E.ON STROM</td>\n",
       "      <td>88512.0</td>\n",
       "      <td>Baden-Württemberg</td>\n",
       "      <td>188.0</td>\n",
       "      <td>2018-01-01</td>\n",
       "    </tr>\n",
       "    <tr>\n",
       "      <th>21</th>\n",
       "      <td>E.ON STROM ÖKO 24</td>\n",
       "      <td>52152.0</td>\n",
       "      <td>Nordrhein-Westfalen</td>\n",
       "      <td>162.0</td>\n",
       "      <td>2018-01-01</td>\n",
       "    </tr>\n",
       "    <tr>\n",
       "      <th>22</th>\n",
       "      <td>E.ON STROM</td>\n",
       "      <td>70567.0</td>\n",
       "      <td>Baden-Württemberg</td>\n",
       "      <td>135.0</td>\n",
       "      <td>2018-01-01</td>\n",
       "    </tr>\n",
       "    <tr>\n",
       "      <th>23</th>\n",
       "      <td>E.ON STROM 24</td>\n",
       "      <td>57520.0</td>\n",
       "      <td>Rheinland-Pfalz</td>\n",
       "      <td>141.0</td>\n",
       "      <td>2018-01-01</td>\n",
       "    </tr>\n",
       "    <tr>\n",
       "      <th>24</th>\n",
       "      <td>E.ON STROM</td>\n",
       "      <td>4319.0</td>\n",
       "      <td>Sachsen</td>\n",
       "      <td>55.0</td>\n",
       "      <td>2018-01-01</td>\n",
       "    </tr>\n",
       "  </tbody>\n",
       "</table>\n",
       "</div>"
      ],
      "text/plain": [
       "   original_product_name postcode           bundesland  total_bonus  \\\n",
       "0             E.ON STROM  53229.0  Nordrhein-Westfalen        146.0   \n",
       "1         E.ON STROM ÖKO  74235.0    Baden-Württemberg         67.0   \n",
       "2      E.ON STROM ÖKO 24  45257.0  Nordrhein-Westfalen        123.0   \n",
       "3             E.ON STROM  64395.0               Hessen        159.0   \n",
       "4          E.ON STROM 24  36039.0               Hessen        116.0   \n",
       "5          E.ON STROM 24  12357.0               Berlin         96.0   \n",
       "6             E.ON STROM  13088.0               Berlin        155.0   \n",
       "7          E.ON STROM 24  73207.0    Baden-Württemberg         97.0   \n",
       "8             E.ON STROM  23795.0   Schleswig-Holstein        109.0   \n",
       "9          E.ON STROM 24  58638.0  Nordrhein-Westfalen        113.0   \n",
       "10            E.ON STROM  37079.0        Niedersachsen        161.0   \n",
       "11            E.ON STROM  88605.0    Baden-Württemberg        154.0   \n",
       "12         E.ON STROM 24  26810.0        Niedersachsen        193.0   \n",
       "13            E.ON STROM  30890.0        Niedersachsen        155.0   \n",
       "14            E.ON STROM  39326.0                  NaN        280.0   \n",
       "15         E.ON STROM 24  85646.0               Bayern        281.0   \n",
       "16            E.ON STROM  58454.0  Nordrhein-Westfalen        123.0   \n",
       "17         E.ON STROM 24  31749.0        Niedersachsen        239.0   \n",
       "18            E.ON STROM  30880.0        Niedersachsen        154.0   \n",
       "19            E.ON STROM  31162.0        Niedersachsen        177.0   \n",
       "20            E.ON STROM  88512.0    Baden-Württemberg        188.0   \n",
       "21     E.ON STROM ÖKO 24  52152.0  Nordrhein-Westfalen        162.0   \n",
       "22            E.ON STROM  70567.0    Baden-Württemberg        135.0   \n",
       "23         E.ON STROM 24  57520.0      Rheinland-Pfalz        141.0   \n",
       "24            E.ON STROM   4319.0              Sachsen         55.0   \n",
       "\n",
       "    order_date  \n",
       "0   2018-01-01  \n",
       "1   2018-01-01  \n",
       "2   2018-01-01  \n",
       "3   2018-01-01  \n",
       "4   2018-01-01  \n",
       "5   2018-01-01  \n",
       "6   2018-01-01  \n",
       "7   2018-01-01  \n",
       "8   2018-01-01  \n",
       "9   2018-01-01  \n",
       "10  2018-01-01  \n",
       "11  2018-01-01  \n",
       "12  2018-01-01  \n",
       "13  2018-01-01  \n",
       "14  2018-01-01  \n",
       "15  2018-01-01  \n",
       "16  2018-01-01  \n",
       "17  2018-01-01  \n",
       "18  2018-01-01  \n",
       "19  2018-01-01  \n",
       "20  2018-01-01  \n",
       "21  2018-01-01  \n",
       "22  2018-01-01  \n",
       "23  2018-01-01  \n",
       "24  2018-01-01  "
      ]
     },
     "execution_count": 31,
     "metadata": {},
     "output_type": "execute_result"
    }
   ],
   "source": [
    "df.head(25)"
   ]
  },
  {
   "cell_type": "code",
   "execution_count": 32,
   "metadata": {},
   "outputs": [
    {
     "data": {
      "text/plain": [
       "318345"
      ]
     },
     "execution_count": 32,
     "metadata": {},
     "output_type": "execute_result"
    }
   ],
   "source": [
    "df.shape[0]"
   ]
  },
  {
   "cell_type": "code",
   "execution_count": 13,
   "metadata": {},
   "outputs": [
    {
     "data": {
      "text/plain": [
       "original_product_name     object\n",
       "postcode                  object\n",
       "bundesland                object\n",
       "total_bonus              float64\n",
       "order_date                object\n",
       "dtype: object"
      ]
     },
     "execution_count": 13,
     "metadata": {},
     "output_type": "execute_result"
    }
   ],
   "source": [
    "df.dtypes"
   ]
  },
  {
   "cell_type": "markdown",
   "metadata": {},
   "source": [
    "# 2. Data Quality"
   ]
  },
  {
   "cell_type": "markdown",
   "metadata": {},
   "source": [
    "### 2.1 Postcode"
   ]
  },
  {
   "cell_type": "code",
   "execution_count": 23,
   "metadata": {},
   "outputs": [
    {
     "data": {
      "text/plain": [
       "0"
      ]
     },
     "execution_count": 23,
     "metadata": {},
     "output_type": "execute_result"
    }
   ],
   "source": [
    "# missing values\n",
    "df['postcode'].isna().sum()"
   ]
  },
  {
   "cell_type": "code",
   "execution_count": 27,
   "metadata": {},
   "outputs": [
    {
     "data": {
      "text/plain": [
       "postcode\n",
       "<class 'float'>    262144\n",
       "<class 'str'>       56201\n",
       "Name: count, dtype: int64"
      ]
     },
     "execution_count": 27,
     "metadata": {},
     "output_type": "execute_result"
    }
   ],
   "source": [
    "# mixed datatypes\n",
    "df.postcode.apply(type).value_counts()"
   ]
  },
  {
   "cell_type": "code",
   "execution_count": 50,
   "metadata": {},
   "outputs": [
    {
     "data": {
      "text/plain": [
       "\"<class 'float'>\""
      ]
     },
     "execution_count": 50,
     "metadata": {},
     "output_type": "execute_result"
    }
   ],
   "source": [
    "df.postcode.apply(type).apply(lambda row: str(row))[0]"
   ]
  },
  {
   "cell_type": "code",
   "execution_count": 45,
   "metadata": {},
   "outputs": [
    {
     "data": {
      "text/plain": [
       "True"
      ]
     },
     "execution_count": 45,
     "metadata": {},
     "output_type": "execute_result"
    }
   ],
   "source": [
    "isinstance(df.postcode.apply(type)[0], type)"
   ]
  },
  {
   "cell_type": "code",
   "execution_count": 40,
   "metadata": {},
   "outputs": [
    {
     "data": {
      "text/plain": [
       "Series([], Name: postcode, dtype: object)"
      ]
     },
     "execution_count": 40,
     "metadata": {},
     "output_type": "execute_result"
    }
   ],
   "source": [
    "df['postcode'].loc[df.postcode.apply(type).apply(lambda x: isinstance(x, str))]"
   ]
  },
  {
   "cell_type": "code",
   "execution_count": 34,
   "metadata": {},
   "outputs": [
    {
     "data": {
      "text/plain": [
       "postcode\n",
       "< 5 digits    278228\n",
       "5 digits       40117\n",
       "Name: count, dtype: int64"
      ]
     },
     "execution_count": 34,
     "metadata": {},
     "output_type": "execute_result"
    }
   ],
   "source": [
    "df.postcode.apply(lambda x: '< 5 digits' if len(str(x))!=5 else '5 digits').value_counts()"
   ]
  },
  {
   "cell_type": "code",
   "execution_count": null,
   "metadata": {},
   "outputs": [],
   "source": [
    "# postcodes\n",
    "# convert postcode to string (or int)\n",
    "# postcodes need to have 5 digits in Germany\n",
    "# Bundeländer, deren PLZ mit 0 beginnt: Sachsen, Brandenburg, Sachsen-Anhalt, Thüringen\n",
    "# "
   ]
  },
  {
   "cell_type": "code",
   "execution_count": 12,
   "metadata": {},
   "outputs": [
    {
     "data": {
      "text/plain": [
       "array(['2018-01-01', '2018-01-02', '2018-01-03', '2018-01-04',\n",
       "       '2018-01-05', '2018-01-06', '2018-01-07', '2018-01-08',\n",
       "       '2018-01-09', '2018-01-10', '2018-01-11', '2018-01-12',\n",
       "       '2018-01-13', '2018-01-14', '2018-01-15', '2018-01-16',\n",
       "       '2018-01-17', '2018-01-18', '2018-01-19', '2018-01-20',\n",
       "       '2018-01-21', '2018-01-22', '2018-01-23', '2018-01-24',\n",
       "       '2018-01-25', '2018-01-26', '2018-01-27', '2018-01-28',\n",
       "       '2018-01-29', '2018-01-30', '2018-01-31', '2018-02-01',\n",
       "       '2018-02-02', '2018-02-03', '2018-02-04', '2018-02-05',\n",
       "       '2018-02-06', '2018-02-07', '2018-02-08', '2018-02-09',\n",
       "       '2018-02-10', '2018-02-11', '2018-02-12', '2018-02-13',\n",
       "       '2018-02-14', '2018-02-15', '2018-02-16', '2018-02-17',\n",
       "       '2018-02-18', '2018-02-19', '2018-02-20', '2018-02-21',\n",
       "       '2018-02-22', '2018-02-23', '2018-02-24', '2018-02-25',\n",
       "       '2018-02-26', '2018-02-27', '2018-02-28', '2018-03-01',\n",
       "       '2018-03-02', '2018-03-03', '2018-03-04', '2018-03-05',\n",
       "       '2018-03-06', '2018-03-07', '2018-03-08', '2018-03-09',\n",
       "       '2018-03-10', '2018-03-11', '2018-03-12', '2018-03-13',\n",
       "       '2018-03-14', '2018-03-15', '2018-03-16', '2018-03-17',\n",
       "       '2018-03-18', '2018-03-19', '2018-03-20', '2018-03-21',\n",
       "       '2018-03-22', '2018-03-23', '2018-03-24', '2018-03-25',\n",
       "       '2018-03-26', '2018-03-27', '2018-03-28', '2018-03-29',\n",
       "       '2018-03-30', '2018-03-31', '2018-04-01', '2018-04-02',\n",
       "       '2018-04-03', '2018-04-04', '2018-04-05', '2018-04-06',\n",
       "       '2018-04-07', '2018-04-08', '2018-04-09', '2018-04-10',\n",
       "       '2018-04-11', '2018-04-12', '2018-04-13', '2018-04-14',\n",
       "       '2018-04-15', '2018-04-16', '2018-04-17', '2018-04-18',\n",
       "       '2018-04-19', '2018-04-20', '2018-04-21', '2018-04-22',\n",
       "       '2018-04-23', '2018-04-24', '2018-04-25', '2018-04-26',\n",
       "       '2018-04-27', '2018-04-28', '2018-04-29', '2018-04-30',\n",
       "       '2018-05-01', '2018-05-02', '2018-05-03', '2018-05-04',\n",
       "       '2018-05-05', '2018-05-06', '2018-05-07', '2018-05-08',\n",
       "       '2018-05-09', '2018-05-10', '2018-05-11', '2018-05-12',\n",
       "       '2018-05-13', '2018-05-14', '2018-05-15', '2018-05-16',\n",
       "       '2018-05-17', '2018-05-18', '2018-05-19', '2018-05-20',\n",
       "       '2018-05-21', '2018-05-22', '2018-05-23', '2018-05-24',\n",
       "       '2018-05-25', '2018-05-26', '2018-05-27', '2018-05-28',\n",
       "       '2018-05-29', '2018-05-30', '2018-05-31', '2018-06-01',\n",
       "       '2018-06-02', '2018-06-03', '2018-06-04', '2018-06-05',\n",
       "       '2018-06-06', '2018-06-07', '2018-06-08', '2018-06-09',\n",
       "       '2018-06-10', '2018-06-11', '2018-06-12', '2018-06-13',\n",
       "       '2018-06-14', '2018-06-15', '2018-06-16', '2018-06-17',\n",
       "       '2018-06-18', '2018-06-19', '2018-06-20', '2018-06-21',\n",
       "       '2018-06-22', '2018-06-23', '2018-06-24', '2018-06-25',\n",
       "       '2018-06-26', '2018-06-27', '2018-06-28', '2018-06-29',\n",
       "       '2018-06-30', '2018-07-01', '2018-07-02', '2018-07-03',\n",
       "       '2018-07-04', '2018-07-05', '2018-07-06', '2018-07-07',\n",
       "       '2018-07-08', '2018-07-09', '2018-07-10', '2018-07-11',\n",
       "       '2018-07-12', '2018-07-13', '2018-07-14', '2018-07-15',\n",
       "       '2018-07-16', '2018-07-17', '2018-07-18', '2018-07-19',\n",
       "       '2018-07-20', '2018-07-21', '2018-07-22', '2018-07-23',\n",
       "       '2018-07-24', '2018-07-25', '2018-07-26', '2018-07-27',\n",
       "       '2018-07-28', '2018-07-29', '2018-07-30', '2018-07-31',\n",
       "       '2018-08-01', '2018-08-02', '2018-08-03', '2018-08-04',\n",
       "       '2018-08-05', '2018-08-06', '2018-08-07', '2018-08-08',\n",
       "       '2018-08-09', '2018-08-10', '2018-08-11', '2018-08-12',\n",
       "       '2018-08-13', '2018-08-14', '2018-08-15', '2018-08-16',\n",
       "       '2018-08-17', '2018-08-18', '2018-08-19', '2018-08-20',\n",
       "       '2018-08-21', '2018-08-22', '2018-08-23', '2018-08-24',\n",
       "       '2018-08-25', '2018-08-26', '2018-08-27', '2018-08-28',\n",
       "       '2018-08-29', '2018-08-30', '2018-08-31', '2018-09-01',\n",
       "       '2018-09-02', '2018-09-03', '2018-09-04', '2018-09-05',\n",
       "       '2018-09-06', '2018-09-07', '2018-09-08', '2018-09-09',\n",
       "       '2018-09-10', '2018-09-11', '2018-09-12', '2018-09-13',\n",
       "       '2018-09-14', '2018-09-15', '2018-09-16', '2018-09-17',\n",
       "       '2018-09-18', '2018-09-19', '2018-09-20', '2018-09-21',\n",
       "       '2018-09-22', '2018-09-23', '2018-09-24', '2018-09-25',\n",
       "       '2018-09-26', '2018-09-27', '2018-09-28', '2018-09-29',\n",
       "       '2018-09-30', '2018-10-01', '2018-10-02', '2018-10-03',\n",
       "       '2018-10-04', '2018-10-05', '2018-10-06', '2018-10-07',\n",
       "       '2018-10-08', '2018-10-09', '2018-10-10', '2018-10-11',\n",
       "       '2018-10-12', '2018-10-13', '2018-10-14', '2018-10-15',\n",
       "       '2018-10-16', '2018-10-17', '2018-10-18', '2018-10-19',\n",
       "       '2018-10-20', '2018-10-21', '2018-10-22', '2018-10-23',\n",
       "       '2018-10-24', '2018-10-25', '2018-10-26', '2018-10-27',\n",
       "       '2018-10-28', '2018-10-29', '2018-10-30', '2018-10-31',\n",
       "       '2018-11-01', '2018-11-02', '2018-11-03', '2018-11-04',\n",
       "       '2018-11-05', '2018-11-06', '2018-11-07', '2018-11-08',\n",
       "       '2018-11-09', '2018-11-10', '2018-11-11', '2018-11-12',\n",
       "       '2018-11-13', '2018-11-14', '2018-11-15', '2018-11-16',\n",
       "       '2018-11-17', '2018-11-18', '2018-11-19', '2018-11-20',\n",
       "       '2018-11-21', '2018-11-22', '2018-11-23', '2018-11-24',\n",
       "       '2018-11-25', '2018-11-26', '2018-11-27', '2018-11-28',\n",
       "       '2018-11-29', '2018-11-30', '2018-12-01', '2018-12-02',\n",
       "       '2018-12-03', '2018-12-04', '2018-12-05', '2018-12-06',\n",
       "       '2018-12-07', '2018-12-08', '2018-12-09', '2018-12-10',\n",
       "       '2018-12-11', '2018-12-12', '2018-12-13', '2018-12-14',\n",
       "       '2018-12-15', '2018-12-16', '2018-12-17', '2018-12-18',\n",
       "       '2018-12-19', '2018-12-20', '2018-12-21', '2018-12-22',\n",
       "       '2018-12-23', '2018-12-24', '2018-12-25', '2018-12-26',\n",
       "       '2018-12-27', '2018-12-28', '2018-12-29', '2018-12-30',\n",
       "       '2018-12-31'], dtype=object)"
      ]
     },
     "execution_count": 12,
     "metadata": {},
     "output_type": "execute_result"
    }
   ],
   "source": [
    "df['order_date'].unique()"
   ]
  },
  {
   "cell_type": "code",
   "execution_count": null,
   "metadata": {},
   "outputs": [],
   "source": [
    "# Are any dates missing?\n",
    "# "
   ]
  }
 ],
 "metadata": {
  "kernelspec": {
   "display_name": ".venv",
   "language": "python",
   "name": "python3"
  },
  "language_info": {
   "codemirror_mode": {
    "name": "ipython",
    "version": 3
   },
   "file_extension": ".py",
   "mimetype": "text/x-python",
   "name": "python",
   "nbconvert_exporter": "python",
   "pygments_lexer": "ipython3",
   "version": "3.8.10"
  }
 },
 "nbformat": 4,
 "nbformat_minor": 2
}
